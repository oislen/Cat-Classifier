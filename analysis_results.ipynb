{
 "cells": [
  {
   "cell_type": "markdown",
   "id": "a9219296-311e-4135-8a3a-8c4320624286",
   "metadata": {},
   "source": [
    "# Cats vs Dogs Image Classification"
   ]
  },
  {
   "cell_type": "markdown",
   "id": "1c739375-4438-4ee1-8889-3bec76b070a7",
   "metadata": {},
   "source": [
    "## Example Image"
   ]
  },
  {
   "cell_type": "markdown",
   "id": "e9d44483-13ac-4013-8d3e-1573872f005a",
   "metadata": {},
   "source": [
    "![Random Image](report/random_image.jpg)"
   ]
  },
  {
   "cell_type": "markdown",
   "id": "93a586a0-abe8-4e87-8125-3a0761ecac49",
   "metadata": {},
   "source": [
    "## Data Processing"
   ]
  },
  {
   "cell_type": "markdown",
   "id": "7d53af71-c2ee-4ed1-8335-5565dce7951a",
   "metadata": {},
   "source": [
    "![Generator Plot](report/generator_plot.jpg)"
   ]
  },
  {
   "cell_type": "markdown",
   "id": "9ac34849-f97f-4086-99ca-c8ab2ba5d77e",
   "metadata": {},
   "source": [
    "## AlexNet8 Model Archecture"
   ]
  },
  {
   "cell_type": "markdown",
   "id": "f65e6c9c-c63f-41c2-90f0-2c1321881b81",
   "metadata": {},
   "source": [
    "![alt text](https://miro.medium.com/max/1400/1*pmGLQBsuyvnQlDWGOfEQuw.png)"
   ]
  },
  {
   "cell_type": "markdown",
   "id": "b81cdf44-b643-400e-8f14-556384ba9ad0",
   "metadata": {},
   "source": [
    "## Model Performance"
   ]
  },
  {
   "cell_type": "markdown",
   "id": "52070b1f-4162-4bb8-a082-534a7b858335",
   "metadata": {},
   "source": [
    "![Model Accuaracy](report/model_accuracy.png)"
   ]
  },
  {
   "cell_type": "markdown",
   "id": "c9d58fe1-fce7-4754-a35a-10a7325b7bdd",
   "metadata": {},
   "source": [
    "![Model Loss](report/model_loss.png)"
   ]
  },
  {
   "cell_type": "markdown",
   "id": "990e17f5-70dc-4542-8c24-83c52bcc3859",
   "metadata": {},
   "source": [
    "## Model Image Predictions"
   ]
  },
  {
   "cell_type": "markdown",
   "id": "d8856811-a69b-4f4c-a2b6-9d528fcfb75e",
   "metadata": {},
   "source": [
    "![Predicted Images](report/pred_images.jpg)"
   ]
  },
  {
   "cell_type": "markdown",
   "id": "d7d94f29-f1c7-4d9f-a835-4e41900dfb5f",
   "metadata": {},
   "source": [
    "## Kaggle Model Performance"
   ]
  },
  {
   "cell_type": "code",
   "execution_count": null,
   "id": "4c1e55d5-bf20-44d4-b2f3-8a706d1fece6",
   "metadata": {},
   "outputs": [],
   "source": []
  }
 ],
 "metadata": {
  "kernelspec": {
   "display_name": "Python 3 (ipykernel)",
   "language": "python",
   "name": "python3"
  },
  "language_info": {
   "codemirror_mode": {
    "name": "ipython",
    "version": 3
   },
   "file_extension": ".py",
   "mimetype": "text/x-python",
   "name": "python",
   "nbconvert_exporter": "python",
   "pygments_lexer": "ipython3",
   "version": "3.10.4"
  }
 },
 "nbformat": 4,
 "nbformat_minor": 5
}
